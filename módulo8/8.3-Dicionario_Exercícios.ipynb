{
 "cells": [
  {
   "cell_type": "markdown",
   "id": "0d5035b5",
   "metadata": {},
   "source": [
    "# Dicionários\n",
    "\n",
    "## Aula 8.3"
   ]
  },
  {
   "cell_type": "markdown",
   "id": "0bdece85",
   "metadata": {},
   "source": [
    "### Q1. \n",
    "\n",
    "Escreva uma função em Python chamada ```contagem_caracteres``` que recebe uma string como parâmetro e retorna um dicionário onde as chaves são os caracteres presentes na string e os valores são a contagem de cada caractere.\n"
   ]
  },
  {
   "cell_type": "code",
   "execution_count": 8,
   "id": "09a9845d",
   "metadata": {},
   "outputs": [
    {
     "name": "stdout",
     "output_type": "stream",
     "text": [
      "{'p': 2, 'y': 1, 't': 1, 'h': 1, 'o': 2, 'n': 2, ' ': 1, 'r': 2, 'g': 2, 'a': 1, 'm': 2, 'i': 1}\n"
     ]
    }
   ],
   "source": [
    "def contagem_caracteres(s):\n",
    "    contagem = {}  \n",
    "    for char in s:  \n",
    "        if char in contagem:\n",
    "            contagem[char] += 1  \n",
    "        else:\n",
    "            contagem[char] = 1  \n",
    "    return contagem\n",
    "\n",
    "# Exemplo de uso:\n",
    "frase = \"python programming\"\n",
    "resultado = contagem_caracteres(frase)\n",
    "print(resultado)"
   ]
  },
  {
   "cell_type": "code",
   "execution_count": null,
   "id": "0a258eba",
   "metadata": {},
   "outputs": [],
   "source": [
    "# Exemplo de uso:\n",
    "frase = \"python programming\"\n",
    "resultado = contagem_caracteres(frase)\n",
    "print(resultado)"
   ]
  },
  {
   "cell_type": "markdown",
   "id": "649a5082",
   "metadata": {},
   "source": [
    "### Q2. \n",
    "\n",
    "Baixe o arquivo contendo o roteiro do filme brasileiro \"Estômago\" e salve em seu computador com o nome \"estomago.txt\".\n",
    "\n",
    "https://aplauso.imprensaoficial.com.br/edicoes/12.0.813.502/12.0.813.502.txt\n",
    "\n",
    "- Escreva um script python que abre o arquivo de texto e cria um dicionário contando a quantidade de vezes que cada palavra aparece no texto.\n",
    "- Em seguida ordene o dicionário de forma decrescente pelos valores. Dessa maneira ele irá apresentar as palavras mais frequentes no início.\n",
    "- Apresente na tela o dicionário ordenado\n"
   ]
  },
  {
   "cell_type": "code",
   "execution_count": null,
   "id": "47cb0573",
   "metadata": {},
   "outputs": [],
   "source": [
    "import string\n",
    "\n",
    "def contar_palavras(arquivo):\n",
    "    \n",
    "    with open(arquivo, 'r', encoding='utf-8') as f:\n",
    "        texto = f.read().lower() \n",
    "\n",
    "    # Remover pontuações do texto\n",
    "    for punct in string.punctuation:\n",
    "        texto = texto.replace(punct, '')\n",
    "    palavras = texto.split()\n",
    "\n",
    "  \n",
    "    contagem_palavras = {}\n",
    "    for palavra in palavras:\n",
    "        if palavra in contagem_palavras:\n",
    "            contagem_palavras[palavra] += 1\n",
    "        else:\n",
    "            contagem_palavras[palavra] = 1\n",
    "\n",
    "    \n",
    "    contagem_ordenada = dict(sorted(contagem_palavras.items(), key=lambda item: item[1], reverse=True))\n",
    "\n",
    "    return contagem_ordenada\n",
    "\n",
    "# Nome do arquivo com o roteiro do filme\n",
    "arquivo_roteiro = 'estomago.txt'\n",
    "\n",
    "# Contar as palavras no arquivo\n",
    "resultado = contar_palavras(arquivo_roteiro)\n",
    "\n",
    "# Exibir o dicionário ordenado\n",
    "for palavra, contagem in resultado.items():\n",
    "    print(f'{palavra}: {contagem}')"
   ]
  },
  {
   "cell_type": "markdown",
   "id": "bb62d219",
   "metadata": {},
   "source": [
    "### Q3. \n",
    "\n",
    "Crie uma função chamada ```mesclar_dicionarios``` que recebe dois dicionários como parâmetros e retorna um novo dicionário contendo a fusão dos dois. Se houver chaves comuns, o maior valor deve prevalecer."
   ]
  },
  {
   "cell_type": "code",
   "execution_count": 9,
   "id": "f4363612",
   "metadata": {},
   "outputs": [
    {
     "name": "stdout",
     "output_type": "stream",
     "text": [
      "{'a': 1, 'b': 4, 'c': 3, 'd': 5}\n"
     ]
    }
   ],
   "source": [
    "def mesclar_dicionarios(dic1, dic2):\n",
    "    # Cópia do primeiro dicionário\n",
    "    dicionario_mesclado = dic1.copy()\n",
    "\n",
    "    # Iterando sobre o segundo dicionário\n",
    "    for chave, valor in dic2.items():\n",
    "        # Se a chave já estiver no dicionário mesclado, manter o maior valor\n",
    "        if chave in dicionario_mesclado:\n",
    "            dicionario_mesclado[chave] = max(dicionario_mesclado[chave], valor)\n",
    "        else:\n",
    "            dicionario_mesclado[chave] = valor\n",
    "\n",
    "    return dicionario_mesclado\n",
    "\n",
    "# Exemplo de uso:\n",
    "dicionario1 = {'a': 1, 'b': 2, 'c': 3}\n",
    "dicionario2 = {'b': 4, 'd': 5}\n",
    "resultado = mesclar_dicionarios(dicionario1, dicionario2)\n",
    "print(resultado)"
   ]
  },
  {
   "cell_type": "code",
   "execution_count": null,
   "id": "add41556",
   "metadata": {},
   "outputs": [],
   "source": [
    "# Exemplo de uso:\n",
    "dicionario1 = {'a': 1, 'b': 2, 'c': 3}\n",
    "dicionario2 = {'b': 4, 'd': 5}\n",
    "resultado = mesclar_dicionarios(dicionario1, dicionario2)\n",
    "print(resultado)\n",
    "# Saída esperada: {'a': 1, 'b': 4, 'c': 3, 'd': 5}"
   ]
  },
  {
   "cell_type": "markdown",
   "id": "8710b1a7",
   "metadata": {},
   "source": [
    "### Q4.\n",
    "\n",
    "Desenvolva uma função em Python chamada ```filtrar_dicionario``` que recebe um dicionário e uma lista de chaves como parâmetros e retorna um novo dicionário contendo apenas as chaves que estão presentes na lista."
   ]
  },
  {
   "cell_type": "code",
   "execution_count": 10,
   "id": "0b7ee921",
   "metadata": {},
   "outputs": [
    {
     "name": "stdout",
     "output_type": "stream",
     "text": [
      "{'a': 1, 'c': 3, 'e': 5}\n"
     ]
    }
   ],
   "source": [
    "def filtrar_dicionario(dicionario, chaves_filtradas):\n",
    "   \n",
    "    dicionario_filtrado = {chave: dicionario[chave] for chave in chaves_filtradas if chave in dicionario}\n",
    "    return dicionario_filtrado\n",
    "\n",
    "# Exemplo de uso:\n",
    "dados = {'a': 1, 'b': 2, 'c': 3, 'd': 4, 'e': 5}\n",
    "chaves_filtradas = ['a', 'c', 'e']\n",
    "resultado = filtrar_dicionario(dados, chaves_filtradas)\n",
    "print(resultado)"
   ]
  },
  {
   "cell_type": "code",
   "execution_count": null,
   "id": "ebc131f6",
   "metadata": {},
   "outputs": [],
   "source": [
    "# Exemplo de uso:\n",
    "dados = {'a': 1, 'b': 2, 'c': 3, 'd': 4, 'e': 5}\n",
    "chaves_filtradas = ['a', 'c', 'e']\n",
    "resultado = filtrar_dicionario(dados, chaves_filtradas)\n",
    "print(resultado)\n",
    "# Saída esperada: {'a': 1, 'c': 3, 'e': 5}"
   ]
  },
  {
   "cell_type": "markdown",
   "id": "3203c51e",
   "metadata": {},
   "source": [
    "### Q5.\n",
    "\n",
    "Você está responsável por analisar os resultados de uma votação. Cada voto é representado por um dicionário com o nome do candidato e a quantidade de votos que recebeu em uma determinada sessão eleitoral. Escreva uma função chamada ```resultado_votacao``` que recebe uma lista de dicionários de votos e retorna um dicionário onde as chaves são os nomes dos candidatos, e os valores são tuplas ```(total, percentual)``` com o total de votos recebidos por cada candidato e o percentual em relação à soma total de votos em todos os candidatos. "
   ]
  },
  {
   "cell_type": "code",
   "execution_count": 11,
   "id": "2c856eee",
   "metadata": {},
   "outputs": [],
   "source": [
    "def resultado_votacao(votos):\n",
    "    # Dicionário para armazenar o total de votos por candidato\n",
    "    total_votos_candidato = {}\n",
    "    # Itera sobre cada sessão de votos\n",
    "    for sessao in votos:\n",
    "        for candidato, votos_candidato in sessao.items():\n",
    "            if candidato in total_votos_candidato:\n",
    "                total_votos_candidato[candidato] += votos_candidato\n",
    "            else:\n",
    "                total_votos_candidato[candidato] = votos_candidato\n",
    "\n",
    "    # Total de votos somando todos os votos de todos os candidatos\n",
    "    total_votos = sum(total_votos_candidato.values())\n",
    "\n",
    "    # Dicionário de resultado final, contendo total e percentual de cada candidato\n",
    "    resultado_final = {}\n",
    "    for candidato, total in total_votos_candidato.items():\n",
    "        percentual = (total / total_votos) * 100\n",
    "        resultado_final[candidato] = (total, round(percentual, 2))\n",
    "\n",
    "    return resultado_final\n",
    "\n",
    "# Exemplo de uso:\n",
    "votos = [\n",
    "    {'candidato_A': 120, 'candidato_B': 85, 'candidato_C': 90},\n",
    "    {'candidato_A': 110, 'candidato_B': 95, 'candidato_C': 80},\n",
    "    {'candidato_A': 130, 'candidato_B': 78, 'candidato_C': 105},\n",
    "]"
   ]
  },
  {
   "cell_type": "code",
   "execution_count": null,
   "id": "ff2044de",
   "metadata": {},
   "outputs": [],
   "source": [
    "# Exemplo de uso:\n",
    "votos = [\n",
    "    {'candidato_A': 120, 'candidato_B': 85, 'candidato_C': 90},\n",
    "    {'candidato_A': 110, 'candidato_B': 95, 'candidato_C': 80},\n",
    "    {'candidato_A': 130, 'candidato_B': 78, 'candidato_C': 105},\n",
    "]\n",
    "resultado = resultado_votacao(votos)\n",
    "print(resultado)  # Saída esperada: {'candidato_A': (360, 40.31), 'candidato_B': (258, 28.89), \n",
    "                                ###  'candidato_C': (275, 30.79)}"
   ]
  }
 ],
 "metadata": {
  "kernelspec": {
   "display_name": "Python 3 (ipykernel)",
   "language": "python",
   "name": "python3"
  },
  "language_info": {
   "codemirror_mode": {
    "name": "ipython",
    "version": 3
   },
   "file_extension": ".py",
   "mimetype": "text/x-python",
   "name": "python",
   "nbconvert_exporter": "python",
   "pygments_lexer": "ipython3",
   "version": "3.12.5"
  }
 },
 "nbformat": 4,
 "nbformat_minor": 5
}
