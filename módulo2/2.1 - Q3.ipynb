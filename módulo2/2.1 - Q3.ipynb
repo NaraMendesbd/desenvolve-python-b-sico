{
 "cells": [
  {
   "cell_type": "code",
   "execution_count": 1,
   "id": "b2cc8aba-8291-42c7-957e-e6a75a8c6af3",
   "metadata": {},
   "outputs": [
    {
     "name": "stdout",
     "output_type": "stream",
     "text": [
      "30\n"
     ]
    }
   ],
   "source": [
    "num1=10\n",
    "num2=15\n",
    "num3=5\n",
    "média=(num1+num2+num3)/3\n",
    "print(num1+num2+num3)"
   ]
  },
  {
   "cell_type": "code",
   "execution_count": 2,
   "id": "efc7f3ce-77a4-4346-9f90-66850c8eaeb9",
   "metadata": {},
   "outputs": [
    {
     "name": "stdout",
     "output_type": "stream",
     "text": [
      "10.0\n"
     ]
    }
   ],
   "source": [
    "média=(num1+num2+num3)/3\n",
    "print (30/3)"
   ]
  }
 ],
 "metadata": {
  "kernelspec": {
   "display_name": "anaconda-2024.02-py310",
   "language": "python",
   "name": "conda-env-anaconda-2024.02-py310-py"
  },
  "language_info": {
   "codemirror_mode": {
    "name": "ipython",
    "version": 3
   },
   "file_extension": ".py",
   "mimetype": "text/x-python",
   "name": "python",
   "nbconvert_exporter": "python",
   "pygments_lexer": "ipython3",
   "version": "3.10.14"
  }
 },
 "nbformat": 4,
 "nbformat_minor": 5
}
