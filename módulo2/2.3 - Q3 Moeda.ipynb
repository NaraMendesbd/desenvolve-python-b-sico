{
 "cells": [
  {
   "cell_type": "code",
   "execution_count": 1,
   "id": "83f2f3ac-e9a7-41d3-b7b5-92e3b48a943e",
   "metadata": {},
   "outputs": [
    {
     "name": "stdout",
     "output_type": "stream",
     "text": [
      "Um yuan vale 0.69 centavos de real\n",
      "Calcule o valor de 69000 reais em yuan\n",
      "O valor em yuan é\n",
      "100000.00000000001\n"
     ]
    }
   ],
   "source": [
    "print(\"Um yuan vale 0.69 centavos de real\")\n",
    "print(\"Calcule o valor de 69000 reais em yuan\")\n",
    "R=69000\n",
    "Y=0.69\n",
    "Valor=R/Y\n",
    "print(\"O valor em yuan é\")\n",
    "print(Valor)"
   ]
  }
 ],
 "metadata": {
  "kernelspec": {
   "display_name": "anaconda-panel-2023.05-py310",
   "language": "python",
   "name": "conda-env-anaconda-panel-2023.05-py310-py"
  },
  "language_info": {
   "codemirror_mode": {
    "name": "ipython",
    "version": 3
   },
   "file_extension": ".py",
   "mimetype": "text/x-python",
   "name": "python",
   "nbconvert_exporter": "python",
   "pygments_lexer": "ipython3",
   "version": "3.11.5"
  }
 },
 "nbformat": 4,
 "nbformat_minor": 5
}
