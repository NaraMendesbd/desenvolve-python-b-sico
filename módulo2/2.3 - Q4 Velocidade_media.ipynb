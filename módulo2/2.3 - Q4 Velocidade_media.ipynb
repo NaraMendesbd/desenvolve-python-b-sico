{
 "cells": [
  {
   "cell_type": "code",
   "execution_count": 1,
   "id": "9d7282d4-3a4b-45b6-a5ff-66460c155bdc",
   "metadata": {},
   "outputs": [
    {
     "name": "stdout",
     "output_type": "stream",
     "text": [
      "A velocidade em quilometros por hora é\n",
      "14.065\n"
     ]
    }
   ],
   "source": [
    "d=42.195 \n",
    "t=3\n",
    "VM=d/t\n",
    "print(\"A velocidade em quilometros por hora é\")\n",
    "print(VM)"
   ]
  },
  {
   "cell_type": "code",
   "execution_count": 2,
   "id": "9ed586f3-c032-44b9-8547-0b5d613d0f07",
   "metadata": {},
   "outputs": [
    {
     "name": "stdout",
     "output_type": "stream",
     "text": [
      "Calcule a velocidade em metros por segundo\n",
      "A velocidade em metros por segundo é\n",
      "3.9069444444444446\n"
     ]
    }
   ],
   "source": [
    "print(\"Calcule a velocidade em metros por segundo\")\n",
    "d=42.195*1000\n",
    "t=3*3600\n",
    "VM=d/t\n",
    "print(\"A velocidade em metros por segundo é\")\n",
    "print(VM)"
   ]
  }
 ],
 "metadata": {
  "kernelspec": {
   "display_name": "anaconda-panel-2023.05-py310",
   "language": "python",
   "name": "conda-env-anaconda-panel-2023.05-py310-py"
  },
  "language_info": {
   "codemirror_mode": {
    "name": "ipython",
    "version": 3
   },
   "file_extension": ".py",
   "mimetype": "text/x-python",
   "name": "python",
   "nbconvert_exporter": "python",
   "pygments_lexer": "ipython3",
   "version": "3.11.5"
  }
 },
 "nbformat": 4,
 "nbformat_minor": 5
}
