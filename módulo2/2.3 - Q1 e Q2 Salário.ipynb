{
 "cells": [
  {
   "cell_type": "code",
   "execution_count": 1,
   "id": "7df33f1e-b775-4c3f-b57f-35c5919775e9",
   "metadata": {},
   "outputs": [
    {
     "name": "stdout",
     "output_type": "stream",
     "text": [
      "800\n",
      "80.0\n",
      "40.0\n",
      "680.0\n"
     ]
    }
   ],
   "source": [
    "valor_por_hora = 20\n",
    "hora_por_semana=40\n",
    "salario_bruto = valor_por_hora*hora_por_semana\n",
    "print(salario_bruto)\n",
    "INSS=salario_bruto*0.1\n",
    "print(INSS)\n",
    "sindicato=salario_bruto*0.05\n",
    "print(sindicato)\n",
    "salario_liquido=salario_bruto-INSS-sindicato\n",
    "print(salario_liquido)"
   ]
  },
  {
   "cell_type": "code",
   "execution_count": 2,
   "id": "818866e7-55cd-43d8-a692-580f61a34330",
   "metadata": {},
   "outputs": [
    {
     "name": "stdout",
     "output_type": "stream",
     "text": [
      "800\n",
      "680\n"
     ]
    }
   ],
   "source": [
    "valor, hora, INSS, sindicato=20, 40, 80, 40\n",
    "salario_bruto = valor*hora\n",
    "print(salario_bruto)\n",
    "salario_liquido=salario_bruto-INSS-sindicato\n",
    "print(salario_liquido)"
   ]
  }
 ],
 "metadata": {
  "kernelspec": {
   "display_name": "anaconda-2024.02-py310",
   "language": "python",
   "name": "conda-env-anaconda-2024.02-py310-py"
  },
  "language_info": {
   "codemirror_mode": {
    "name": "ipython",
    "version": 3
   },
   "file_extension": ".py",
   "mimetype": "text/x-python",
   "name": "python",
   "nbconvert_exporter": "python",
   "pygments_lexer": "ipython3",
   "version": "3.10.14"
  }
 },
 "nbformat": 4,
 "nbformat_minor": 5
}
